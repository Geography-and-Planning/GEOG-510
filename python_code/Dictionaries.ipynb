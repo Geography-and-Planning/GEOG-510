{
 "cells": [
  {
   "cell_type": "markdown",
   "id": "6ffd01c1",
   "metadata": {},
   "source": [
    "# Coverts Tuple to List"
   ]
  },
  {
   "cell_type": "code",
   "execution_count": 1,
   "id": "6d288410",
   "metadata": {},
   "outputs": [
    {
     "data": {
      "text/plain": [
       "('hann', 'matt', 'Eriv')"
      ]
     },
     "execution_count": 1,
     "metadata": {},
     "output_type": "execute_result"
    }
   ],
   "source": [
    "test =('hann', 'matt', 'Eriv')\n",
    "test"
   ]
  },
  {
   "cell_type": "code",
   "execution_count": 3,
   "id": "d31b0b19",
   "metadata": {},
   "outputs": [
    {
     "data": {
      "text/plain": [
       "['hann', 'matt', 'Eriv']"
      ]
     },
     "execution_count": 3,
     "metadata": {},
     "output_type": "execute_result"
    }
   ],
   "source": [
    "tests= list(test)\n",
    "tests"
   ]
  },
  {
   "cell_type": "markdown",
   "id": "43cb038f",
   "metadata": {},
   "source": [
    "# Dictionaries\n",
    "\n",
    "In this lecture you’ll learn how to use Python’s dictionaries, which allow you to connect pieces of related information. You’ll learn how to access the information once it’s in a dictionary and how to modify that information. Because dictionaries can store an almost limitless amount of information, I’ll show you how to loop through the data in a dictionary. Additionally, you’ll learn to nest dictionaries inside lists, lists inside dictionaries, and even dictionaries inside other dictionaries.\n",
    "\n",
    "Understanding dictionaries allows you to model a variety of real-world objects more accurately. You’ll be able to create a dictionary representing a person and then store as much information as you want about that person. You can store their name, age, location, profession, and any other aspect of a person you can describe. You’ll be able to store any two kinds of information that can be matched up, such as a list of words and their meanings, a list of people’s names and their favorite numbers, a list of mountains and their elevations, and so forth.\n",
    "\n",
    "\n",
    "## A SIMPLE DICTIONARY\n",
    "\n",
    "Consider a game featuring aliens that can have different colors and point values. This simple dictionary stores information about a particular alien:"
   ]
  },
  {
   "cell_type": "code",
   "execution_count": null,
   "id": "7c569301",
   "metadata": {},
   "outputs": [],
   "source": []
  }
 ],
 "metadata": {
  "kernelspec": {
   "display_name": "Python 3 (ipykernel)",
   "language": "python",
   "name": "python3"
  },
  "language_info": {
   "codemirror_mode": {
    "name": "ipython",
    "version": 3
   },
   "file_extension": ".py",
   "mimetype": "text/x-python",
   "name": "python",
   "nbconvert_exporter": "python",
   "pygments_lexer": "ipython3",
   "version": "3.9.16"
  }
 },
 "nbformat": 4,
 "nbformat_minor": 5
}
