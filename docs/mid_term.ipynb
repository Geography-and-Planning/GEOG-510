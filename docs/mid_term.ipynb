{
 "cells": [
  {
   "cell_type": "markdown",
   "metadata": {
    "colab_type": "text",
    "id": "view-in-github"
   },
   "source": [
    "<a href=\"https://colab.research.google.com/github/zyang91/GEOG-510/blob/main/docs/mid_term.ipynb\" target=\"_parent\"><img src=\"https://colab.research.google.com/assets/colab-badge.svg\" alt=\"Open In Colab\"/></a>"
   ]
  },
  {
   "cell_type": "markdown",
   "metadata": {
    "id": "bbb116c6"
   },
   "source": [
    "# GEOG 422/510 Midterm Exam (other solving)\n"
   ]
  },
  {
   "cell_type": "markdown",
   "metadata": {
    "id": "CdJyHPRUsCYa"
   },
   "source": [
    "## Question 2\n",
    "**Ordinal numbers**: Ordinal numbers indicate their position in a list, such as 1st or 2nd. Most ordinal numbers end in *th*, except 1, 2, and 3. Write a program that repeatedly prompts a user for a number and prints out its corresponding ordinal number. Your program must be able to handle any integer, not just numbers between 1 and 10. If the user enters an invalid number, the program should prompt users to enter a valid number. When the user enters `quit`, the program stops. \n",
    "\n",
    "Sample output:\n",
    "\n",
    "```text\n",
    "Enter a number (enter 'quit' to exit):  1\n",
    "The ordinal number of 1 is: 1st\n",
    "Enter a number (enter 'quit' to exit):  2\n",
    "The ordinal number of 2 is: 2nd\n",
    "Enter a number (enter 'quit' to exit):  3\n",
    "The ordinal number of 3 is: 3rd\n",
    "Enter a number (enter 'quit' to exit):  5\n",
    "The ordinal number of 5 is: 5th\n",
    "Enter a number (enter 'quit' to exit):  11\n",
    "The ordinal number of 11 is: 11th\n",
    "Enter a number (enter 'quit' to exit):  12\n",
    "The ordinal number of 12 is: 12th\n",
    "Enter a number (enter 'quit' to exit):  13\n",
    "The ordinal number of 13 is: 13th\n",
    "Enter a number (enter 'quit' to exit):  21\n",
    "The ordinal number of 21 is: 21st\n",
    "Enter a number (enter 'quit' to exit):  22\n",
    "The ordinal number of 22 is: 22nd\n",
    "Enter a number (enter 'quit' to exit):  23\n",
    "The ordinal number of 23 is: 23rd\n",
    "Enter a number (enter 'quit' to exit):  99\n",
    "The ordinal number of 99 is: 99th\n",
    "Enter a number (enter 'quit' to exit):  101\n",
    "The ordinal number of 101 is: 101st\n",
    "Enter a number (enter 'quit' to exit):  hello\n",
    "hello is an invalid number. Please enter an integer number!\n",
    "Enter a number (enter 'quit' to exit):  haha\n",
    "haha is an invalid number. Please enter an integer number!\n",
    "Enter a number (enter 'quit' to exit):  quit\n",
    "```"
   ]
  },
  {
   "cell_type": "code",
   "execution_count": null,
   "metadata": {
    "colab": {
     "base_uri": "https://localhost:8080/"
    },
    "id": "_dSA5hk1rnM3",
    "outputId": "7948f659-6e9d-472e-d55c-a3e0e40aeb35"
   },
   "outputs": [],
   "source": [
    "while True:\n",
    "    userinput = input(\"Enter a number (type quit to exit): \")\n",
    "    try:\n",
    "\n",
    "        if userinput == \"quit\":\n",
    "            break\n",
    "        elif int(userinput) in range(10, 21):\n",
    "            print(f\"The ordinal number of {int(userinput)} is: {int(userinput)}th\")\n",
    "        elif int(userinput) % 10 == 1 & int(userinput) not in range(10, 20):\n",
    "            print(f\"The ordinal number of {int(userinput)} is: {int(userinput)}st\")\n",
    "        elif int(userinput) % 10 == 2 & int(userinput) not in range(10, 20):\n",
    "            print(f\"The ordinal number of {int(userinput)} is: {int(userinput)}nd\")\n",
    "        elif int(userinput) % 10 == 3 & int(userinput) not in range(10, 20):\n",
    "            print(f\"The ordinal number of {int(userinput)} is: {int(userinput)}rd\")\n",
    "        elif int(userinput) % 10 == 4:\n",
    "            print(f\"The ordinal number of {int(userinput)} is: {int(userinput)}th\")\n",
    "        elif int(userinput) % 10 == 5:\n",
    "            print(f\"The ordinal number of {int(userinput)} is: {int(userinput)}th\")\n",
    "        elif int(userinput) % 10 == 6:\n",
    "            print(f\"The ordinal number of {int(userinput)} is: {int(userinput)}th\")\n",
    "        elif int(userinput) % 10 == 7:\n",
    "            print(f\"The ordinal number of {int(userinput)} is: {int(userinput)}th\")\n",
    "        elif int(userinput) % 10 == 8:\n",
    "            print(f\"The ordinal number of {int(userinput)} is: {int(userinput)}th\")\n",
    "        elif int(userinput) % 10 == 9:\n",
    "            print(f\"The ordinal number of {int(userinput)} is: {int(userinput)}th\")\n",
    "        elif int(userinput) % 10 == 0:\n",
    "            print(f\"The ordinal number of {int(userinput)} is: {int(userinput)}th\")\n",
    "    except:\n",
    "        print(f\"{userinput} is an invalid number. Please enter an integer number.\")"
   ]
  },
  {
   "cell_type": "markdown",
   "metadata": {
    "id": "y9nIoR4JsNlU"
   },
   "source": [
    "## Question 3\n",
    "**Compute median:** Write a program that repeatedly prompts a user for numbers until the user enters `quit`. Once `quit` is entered, print out the median value of the numbers. If the user enters anything other than a valid number put out an appropriate message and ignore the number.\n",
    "\n",
    "Sample output:\n",
    "```text\n",
    "Enter a number (enter 'quit' to exit):  7\n",
    "Enter a number (enter 'quit' to exit):  8\n",
    "Enter a number (enter 'quit' to exit):  9\n",
    "Enter a number (enter 'quit' to exit):  haha\n",
    "Invalid input. Please enter a valid number.\n",
    "Enter a number (enter 'quit' to exit):  10\n",
    "Enter a number (enter 'quit' to exit):  quit\n",
    "The median value of the numbers [7.0, 8.0, 9.0, 10.0] is 8.5.\n",
    "```"
   ]
  },
  {
   "cell_type": "code",
   "execution_count": null,
   "metadata": {
    "colab": {
     "base_uri": "https://localhost:8080/"
    },
    "id": "05R3yWWmsG2k",
    "outputId": "d34ae500-42a5-4263-bc9c-2f7ad3075f9d"
   },
   "outputs": [],
   "source": [
    "import statistics\n",
    "\n",
    "while True:\n",
    "    prompt = input(\"Enter a number: (type quit to exit) \")\n",
    "    new_array = []\n",
    "    try:\n",
    "        if prompt == \"quit\":\n",
    "            break\n",
    "        else:\n",
    "            new_array.append(int(prompt))\n",
    "            med = statistics.median(new_array)\n",
    "    except ValueError:\n",
    "        print(\"Try a number.\")\n",
    "print(med)"
   ]
  }
 ],
 "metadata": {
  "colab": {
   "authorship_tag": "ABX9TyPDUAvZleWE8diEU8QBakAb",
   "include_colab_link": true,
   "provenance": []
  },
  "kernelspec": {
   "display_name": "Python 3",
   "name": "python3"
  },
  "language_info": {
   "name": "python"
  }
 },
 "nbformat": 4,
 "nbformat_minor": 0
}
