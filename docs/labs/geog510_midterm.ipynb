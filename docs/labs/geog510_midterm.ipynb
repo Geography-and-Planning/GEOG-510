{
 "cells": [
  {
   "attachments": {},
   "cell_type": "markdown",
   "id": "ccc39dc4-617c-4e04-90b6-7560272136e4",
   "metadata": {
    "id": "ccc39dc4-617c-4e04-90b6-7560272136e4"
   },
   "source": [
    "# GEOG 422/510 Midterm Exam\n",
    "\n",
    "[![image](https://colab.research.google.com/assets/colab-badge.svg)]()\n",
    "\n",
    "**Firstname Lastname**\n",
    "\n",
    "150 points in total (30 points each question). You have 75 minutes to complete the exam.\n",
    "\n",
    "\n",
    "**Submission instructions**\n",
    "\n",
    "Your submission should contain four hyperlinks as follows:\n",
    "\n",
    "- GitHub: https://github.com/giswqs/geosdemo\n",
    "- PyPI: https://pypi.org/project/geosdemo\n",
    "- Docs: https://giswqs.github.io/geosdemo \n",
    "- Notebook: https://github.com/giswqs/geosdemo/blob/master/docs/labs/midterm.ipynb\n",
    "\n",
    "Before submission, restart kernel and run all cells."
   ]
  },
  {
   "cell_type": "code",
   "execution_count": null,
   "id": "03c56513-daab-414e-9947-e88cf56afb24",
   "metadata": {
    "id": "03c56513-daab-414e-9947-e88cf56afb24",
    "outputId": "56a1276e-54a4-41da-a134-af66ee67d9da"
   },
   "outputs": [
    {
     "name": "stdout",
     "output_type": "stream",
     "text": [
      "Submitted time: 2023-03-23 10:39:03.742685\n"
     ]
    }
   ],
   "source": [
    "from datetime import datetime\n",
    "\n",
    "now = datetime.now()\n",
    "print(f\"Submitted time: {now}\")"
   ]
  },
  {
   "cell_type": "markdown",
   "id": "949a0196",
   "metadata": {
    "id": "949a0196"
   },
   "source": [
    "## Question 1\n",
    "\n",
    "Create a new Python package and publish it on GitHub and PyPI. Do NOT use any packages that you created for previous assignments. The package must have GitHub Actions enabled, which allows you to automatically upload new releases from GitHub to PyPI. The package must also have the documentation website up and running. Complete the four questions below on this notebook and add the notebook to your GitHub repo for this new package. Add an `Open In Colab` badge to the notebook. Upon completion, you should have four hyperlinks to your GitHub repo, PyPI, documentation website, and the notebook. \n",
    "\n",
    "- GitHub: https://github.com/giswqs/geosdemo\n",
    "- PyPI: https://pypi.org/project/geosdemo\n",
    "- Docs: https://giswqs.github.io/geosdemo \n",
    "- Notebook: https://github.com/giswqs/geosdemo/blob/master/docs/labs/midterm.ipynb"
   ]
  },
  {
   "cell_type": "markdown",
   "id": "d5c26851-64ab-4957-8d24-affa0af5c39e",
   "metadata": {
    "id": "d5c26851-64ab-4957-8d24-affa0af5c39e"
   },
   "source": [
    "## Question 2\n",
    "**Ordinal numbers**: Ordinal numbers indicate their position in a list, such as 1st or 2nd. Most ordinal numbers end in *th*, except 1, 2, and 3. Write a program that repeatedly prompts a user for a number and prints out its corresponding ordinal number. Your program must be able to handle any integer, not just numbers between 1 and 10. If the user enters an invalid number, the program should prompt users to enter a valid number. When the user enters `quit`, the program stops. \n",
    "\n",
    "Sample output:\n",
    "\n",
    "```text\n",
    "Enter a number (enter 'quit' to exit):  1\n",
    "The ordinal number of 1 is: 1st\n",
    "Enter a number (enter 'quit' to exit):  2\n",
    "The ordinal number of 2 is: 2nd\n",
    "Enter a number (enter 'quit' to exit):  3\n",
    "The ordinal number of 3 is: 3rd\n",
    "Enter a number (enter 'quit' to exit):  5\n",
    "The ordinal number of 5 is: 5th\n",
    "Enter a number (enter 'quit' to exit):  11\n",
    "The ordinal number of 11 is: 11th\n",
    "Enter a number (enter 'quit' to exit):  12\n",
    "The ordinal number of 12 is: 12th\n",
    "Enter a number (enter 'quit' to exit):  13\n",
    "The ordinal number of 13 is: 13th\n",
    "Enter a number (enter 'quit' to exit):  21\n",
    "The ordinal number of 21 is: 21st\n",
    "Enter a number (enter 'quit' to exit):  22\n",
    "The ordinal number of 22 is: 22nd\n",
    "Enter a number (enter 'quit' to exit):  23\n",
    "The ordinal number of 23 is: 23rd\n",
    "Enter a number (enter 'quit' to exit):  99\n",
    "The ordinal number of 99 is: 99th\n",
    "Enter a number (enter 'quit' to exit):  101\n",
    "The ordinal number of 101 is: 101st\n",
    "Enter a number (enter 'quit' to exit):  hello\n",
    "hello is an invalid number. Please enter an integer number!\n",
    "Enter a number (enter 'quit' to exit):  haha\n",
    "haha is an invalid number. Please enter an integer number!\n",
    "Enter a number (enter 'quit' to exit):  quit\n",
    "```"
   ]
  },
  {
   "cell_type": "code",
   "execution_count": 1,
   "id": "054c7bf4-e64c-4a5b-84d1-530d0e4ce0f5",
   "metadata": {
    "id": "054c7bf4-e64c-4a5b-84d1-530d0e4ce0f5",
    "outputId": "77f622d4-0715-49d3-963c-b6979a04c6c0"
   },
   "outputs": [
    {
     "name": "stdout",
     "output_type": "stream",
     "text": [
      "Enter a number (enter 'quit' to exit):  1\n"
     ]
    },
    {
     "name": "stdout",
     "output_type": "stream",
     "text": [
      "The ordinal number of 1 is: 1st\n"
     ]
    },
    {
     "name": "stdout",
     "output_type": "stream",
     "text": [
      "Enter a number (enter 'quit' to exit):  2\n"
     ]
    },
    {
     "name": "stdout",
     "output_type": "stream",
     "text": [
      "The ordinal number of 2 is: 2nd\n"
     ]
    },
    {
     "name": "stdout",
     "output_type": "stream",
     "text": [
      "Enter a number (enter 'quit' to exit):  3\n"
     ]
    },
    {
     "name": "stdout",
     "output_type": "stream",
     "text": [
      "The ordinal number of 3 is: 3rd\n"
     ]
    },
    {
     "name": "stdout",
     "output_type": "stream",
     "text": [
      "Enter a number (enter 'quit' to exit):  5\n"
     ]
    },
    {
     "name": "stdout",
     "output_type": "stream",
     "text": [
      "The ordinal number of 5 is: 5th\n"
     ]
    },
    {
     "name": "stdout",
     "output_type": "stream",
     "text": [
      "Enter a number (enter 'quit' to exit):  11\n"
     ]
    },
    {
     "name": "stdout",
     "output_type": "stream",
     "text": [
      "The ordinal number of 11 is: 11st\n"
     ]
    },
    {
     "name": "stdout",
     "output_type": "stream",
     "text": [
      "Enter a number (enter 'quit' to exit):  12\n"
     ]
    },
    {
     "name": "stdout",
     "output_type": "stream",
     "text": [
      "The ordinal number of 12 is: 12nd\n"
     ]
    },
    {
     "name": "stdout",
     "output_type": "stream",
     "text": [
      "Enter a number (enter 'quit' to exit):  13\n"
     ]
    },
    {
     "name": "stdout",
     "output_type": "stream",
     "text": [
      "The ordinal number of 13 is: 13rd\n"
     ]
    },
    {
     "name": "stdout",
     "output_type": "stream",
     "text": [
      "Enter a number (enter 'quit' to exit):  21\n"
     ]
    },
    {
     "name": "stdout",
     "output_type": "stream",
     "text": [
      "The ordinal number of 21 is: 21st\n"
     ]
    },
    {
     "name": "stdout",
     "output_type": "stream",
     "text": [
      "Enter a number (enter 'quit' to exit):  22\n"
     ]
    },
    {
     "name": "stdout",
     "output_type": "stream",
     "text": [
      "The ordinal number of 22 is: 22nd\n"
     ]
    },
    {
     "name": "stdout",
     "output_type": "stream",
     "text": [
      "Enter a number (enter 'quit' to exit):  23\n"
     ]
    },
    {
     "name": "stdout",
     "output_type": "stream",
     "text": [
      "The ordinal number of 23 is: 23rd\n"
     ]
    },
    {
     "name": "stdout",
     "output_type": "stream",
     "text": [
      "Enter a number (enter 'quit' to exit):  99\n"
     ]
    },
    {
     "name": "stdout",
     "output_type": "stream",
     "text": [
      "The ordinal number of 99 is: 99th\n"
     ]
    },
    {
     "name": "stdout",
     "output_type": "stream",
     "text": [
      "Enter a number (enter 'quit' to exit):  101\n"
     ]
    },
    {
     "name": "stdout",
     "output_type": "stream",
     "text": [
      "The ordinal number of 101 is: 101st\n"
     ]
    },
    {
     "name": "stdout",
     "output_type": "stream",
     "text": [
      "Enter a number (enter 'quit' to exit):  hello\n"
     ]
    },
    {
     "name": "stdout",
     "output_type": "stream",
     "text": [
      "That is not a number, please try again\n"
     ]
    },
    {
     "name": "stdout",
     "output_type": "stream",
     "text": [
      "Enter a number (enter 'quit' to exit):  haha\n"
     ]
    },
    {
     "name": "stdout",
     "output_type": "stream",
     "text": [
      "That is not a number, please try again\n"
     ]
    },
    {
     "name": "stdout",
     "output_type": "stream",
     "text": [
      "Enter a number (enter 'quit' to exit):  quit\n"
     ]
    }
   ],
   "source": [
    "while True:\n",
    "    num = input(\"Enter a number (enter 'quit' to exit): \")\n",
    "    try:\n",
    "        if num == 'quit':\n",
    "            break\n",
    "        elif int(num):\n",
    "            if num[-1] == '1':\n",
    "                print(f\"The ordinal number of {num} is: {num}st\")\n",
    "            elif num[-1] == '2':\n",
    "                print(f\"The ordinal number of {num} is: {num}nd\")\n",
    "            elif num[-1] == '3':\n",
    "                print(f\"The ordinal number of {num} is: {num}rd\")\n",
    "            else:\n",
    "                print(f\"The ordinal number of {num} is: {num}th\")\n",
    "    except ValueError:\n",
    "        print(\"That is not a number, please try again\")"
   ]
  },
  {
   "cell_type": "markdown",
   "id": "3e211adf-8d3f-4323-b9ea-35809bb12e66",
   "metadata": {
    "id": "3e211adf-8d3f-4323-b9ea-35809bb12e66"
   },
   "source": [
    "## Question 3\n",
    "**Compute median:** Write a program that repeatedly prompts a user for numbers until the user enters `quit`. Once `quit` is entered, print out the median value of the numbers. If the user enters anything other than a valid number put out an appropriate message and ignore the number.\n",
    "\n",
    "Sample output:\n",
    "```text\n",
    "Enter a number (enter 'quit' to exit):  7\n",
    "Enter a number (enter 'quit' to exit):  8\n",
    "Enter a number (enter 'quit' to exit):  9\n",
    "Enter a number (enter 'quit' to exit):  haha\n",
    "Invalid input. Please enter a valid number.\n",
    "Enter a number (enter 'quit' to exit):  10\n",
    "Enter a number (enter 'quit' to exit):  quit\n",
    "The median value of the numbers [7.0, 8.0, 9.0, 10.0] is 8.5.\n",
    "```"
   ]
  },
  {
   "cell_type": "code",
   "execution_count": 8,
   "id": "f748d68f-4ab9-46ea-a63c-34fc64ed55a2",
   "metadata": {
    "id": "f748d68f-4ab9-46ea-a63c-34fc64ed55a2",
    "outputId": "275a58a4-abff-4565-b815-f43b84160821"
   },
   "outputs": [
    {
     "name": "stdout",
     "output_type": "stream",
     "text": [
      "Enter a number (enter 'quit' to exit):  9\n",
      "Enter a number (enter 'quit' to exit):  10\n",
      "Enter a number (enter 'quit' to exit):  11\n",
      "Enter a number (enter 'quit' to exit):  quit\n"
     ]
    },
    {
     "name": "stdout",
     "output_type": "stream",
     "text": [
      "The median values of the numbers [9, 10, 11] is 10.\n"
     ]
    }
   ],
   "source": [
    "import statistics\n",
    "mid = []\n",
    "\n",
    "while True:\n",
    "    num = input(\"Enter a number (enter 'quit' to exit): \")\n",
    "    try:\n",
    "        if num == 'quit':\n",
    "            break\n",
    "        elif int(num):\n",
    "            mid.append(int(num))\n",
    "            med = statistics.median(mid)\n",
    "\n",
    "    except ValueError:\n",
    "        print(\"That is not a number, please try again\")\n",
    "        \n",
    "print(f\"The median values of the numbers {mid} is {med}.\")"
   ]
  },
  {
   "cell_type": "code",
   "execution_count": 9,
   "id": "27a89ac4-7775-40a6-85b5-bad0b3ebbe9f",
   "metadata": {},
   "outputs": [
    {
     "name": "stdout",
     "output_type": "stream",
     "text": [
      "Enter a number (enter 'quit' to exit):  7\n",
      "Enter a number (enter 'quit' to exit):  8\n",
      "Enter a number (enter 'quit' to exit):  10\n",
      "Enter a number (enter 'quit' to exit):  9.5\n"
     ]
    },
    {
     "name": "stdout",
     "output_type": "stream",
     "text": [
      "This is not a number, please try again\n"
     ]
    },
    {
     "name": "stdout",
     "output_type": "stream",
     "text": [
      "Enter a number (enter 'quit' to exit):  haha\n"
     ]
    },
    {
     "name": "stdout",
     "output_type": "stream",
     "text": [
      "This is not a number, please try again\n"
     ]
    },
    {
     "name": "stdout",
     "output_type": "stream",
     "text": [
      "Enter a number (enter 'quit' to exit):  quit\n"
     ]
    },
    {
     "name": "stdout",
     "output_type": "stream",
     "text": [
      "The median values of the numbers [7, 8, 10] is 8.\n"
     ]
    }
   ],
   "source": [
    "import statistics\n",
    "mid = []\n",
    "while True:\n",
    "    number =input(\"Enter a number (enter 'quit' to exit): \")\n",
    "    if number == 'quit':\n",
    "        break\n",
    "    try:\n",
    "        num = int(number)\n",
    "        mid.append(num)\n",
    "        med = statistics.median(mid)\n",
    "    except:\n",
    "        print('This is not a number, please try again')\n",
    "print(f\"The median values of the numbers {mid} is {med}.\")"
   ]
  },
  {
   "cell_type": "markdown",
   "id": "e20f5fbb-f164-44b2-808a-fd815f0b8ed8",
   "metadata": {
    "id": "e20f5fbb-f164-44b2-808a-fd815f0b8ed8"
   },
   "source": [
    "## Question 4\n",
    "**Count Words:** Based on the text file [A-Tale-of-Two-Cities.txt](https://raw.githubusercontent.com/giswqs/geosdemo/master/docs/python/data/A-Tale-of-Two-Cities.txt), write a program that repeatly prompts a user to enter a word or phrase and finds out how many times it appears in the text file. When a user enters `quit`, the program stops. \n",
    "\n",
    "Sample output:\n",
    "```text\n",
    "Enter a word or phrase to search for (enter 'quit' to exit):  the\n",
    "'the' appears 10694 times in the file.\n",
    "Enter a word or phrase to search for (enter 'quit' to exit):  season\n",
    "'season' appears 8 times in the file.\n",
    "Enter a word or phrase to search for (enter 'quit' to exit):  country\n",
    "'country' appears 42 times in the file.\n",
    "Enter a word or phrase to search for (enter 'quit' to exit):  hello\n",
    "'hello' appears 0 times in the file.\n",
    "Enter a word or phrase to search for (enter 'quit' to exit):  love\n",
    "'love' appears 77 times in the file.\n",
    "Enter a word or phrase to search for (enter 'quit' to exit):  quit\n",
    "```"
   ]
  },
  {
   "cell_type": "code",
   "execution_count": 12,
   "id": "22a29906",
   "metadata": {
    "colab": {
     "base_uri": "https://localhost:8080/"
    },
    "id": "22a29906",
    "outputId": "85517d46-2fe4-4aac-8aec-8d4b507f8d53"
   },
   "outputs": [
    {
     "name": "stdout",
     "output_type": "stream",
     "text": [
      "Enter a word or phrase to search for (enter 'quit' to exit):  the\n"
     ]
    },
    {
     "name": "stdout",
     "output_type": "stream",
     "text": [
      "the appears 10694 times in the file\n"
     ]
    },
    {
     "name": "stdout",
     "output_type": "stream",
     "text": [
      "Enter a word or phrase to search for (enter 'quit' to exit):  season\n"
     ]
    },
    {
     "name": "stdout",
     "output_type": "stream",
     "text": [
      "season appears 8 times in the file\n"
     ]
    },
    {
     "name": "stdout",
     "output_type": "stream",
     "text": [
      "Enter a word or phrase to search for (enter 'quit' to exit):  hello\n"
     ]
    },
    {
     "name": "stdout",
     "output_type": "stream",
     "text": [
      "hello appears 0 times in the file\n"
     ]
    },
    {
     "name": "stdout",
     "output_type": "stream",
     "text": [
      "Enter a word or phrase to search for (enter 'quit' to exit):  quit\n"
     ]
    }
   ],
   "source": [
    "filename = 'data/A-Tale-of-Two-Cities.txt'\n",
    "with open(filename, encoding='utf-8') as f:\n",
    "    contents = f.read()\n",
    "while True:\n",
    "    word = input(\"Enter a word or phrase to search for (enter 'quit' to exit): \")\n",
    "    if word == 'quit':\n",
    "        break\n",
    "    else:\n",
    "        num = contents.count(word)\n",
    "        print(f\"{word} appears {num} times in the file\")\n",
    "        "
   ]
  },
  {
   "cell_type": "code",
   "execution_count": 2,
   "id": "7411673b-78c1-44fb-b3ed-06dfe390d4fc",
   "metadata": {},
   "outputs": [],
   "source": [
    "import os.path"
   ]
  },
  {
   "cell_type": "code",
   "execution_count": 5,
   "id": "5cdb2ac1-333e-447a-aa04-e5b9f455cccf",
   "metadata": {},
   "outputs": [
    {
     "name": "stdout",
     "output_type": "stream",
     "text": [
      "Enter a word or phrase to search for (enter 'quit' to exit):  the\n"
     ]
    },
    {
     "name": "stdout",
     "output_type": "stream",
     "text": [
      "the appears 10694 times in the file\n"
     ]
    },
    {
     "name": "stdout",
     "output_type": "stream",
     "text": [
      "Enter a word or phrase to search for (enter 'quit' to exit):  season\n"
     ]
    },
    {
     "name": "stdout",
     "output_type": "stream",
     "text": [
      "season appears 8 times in the file\n"
     ]
    },
    {
     "name": "stdout",
     "output_type": "stream",
     "text": [
      "Enter a word or phrase to search for (enter 'quit' to exit):  quit\n"
     ]
    }
   ],
   "source": [
    "if not os.path.exists('A-Tale-of-Two-Cities.txt'):\n",
    "    !wget https://raw.githubusercontent.com/giswqs/geosdemo/master/docs/python/data/A-Tale-of-Two-Cities.txt\n",
    "\n",
    "filename = 'A-Tale-of-Two-Cities.txt'\n",
    "with open(filename, encoding='utf-8') as f:\n",
    "    contents = f.read()\n",
    "while True:\n",
    "    word = input(\"Enter a word or phrase to search for (enter 'quit' to exit): \")\n",
    "    if word == 'quit':\n",
    "        break\n",
    "    else:\n",
    "        num = contents.count(word)\n",
    "        print(f\"{word} appears {num} times in the file\")"
   ]
  },
  {
   "cell_type": "markdown",
   "id": "c6225cfc-09f3-4b2a-9378-c6cc1da25610",
   "metadata": {},
   "source": [
    "## Question 5\n",
    "\n",
    "Write a program that counts the number of unique words in a text file. The program should repeatedly prompt a user to enter a file name and print out the number of unique words in the file. When a user enters `quit`, the program stops. If the input file does not exist, the program should print out an error message and prompt users to enter a valid filename.\n",
    "\n",
    "Some sample text files are available at:\n",
    "- [A-Tale-of-Two-Cities.txt](https://raw.githubusercontent.com/giswqs/geosdemo/master/docs/python/data/A-Tale-of-Two-Cities.txt)\n",
    "- [little_women.txt](https://raw.githubusercontent.com/giswqs/geosdemo/master/docs/python/data/little_women.txt)\n",
    "- [alice.txt](https://raw.githubusercontent.com/giswqs/geosdemo/master/docs/python/data/alice.txt)\n",
    "\n",
    "Sample output:\n",
    "```text\n",
    "Enter the filename:  A-Tale-of-Two-Cities.txt\n",
    "There are 19666 unique words in the file A-Tale-of-Two-Cities.txt\n",
    "Enter the filename:  little_women.txt\n",
    "There are 21050 unique words in the file little_women.txt\n",
    "Enter the filename:  alice.txt\n",
    "There are 6018 unique words in the file alice.txt\n",
    "Enter the filename:  hello_world.txt\n",
    "File 'hello_world.txt' not found. Please enter a valid filename.\n",
    "Enter the filename:  serious.txt\n",
    "File 'serious.txt' not found. Please enter a valid filename.\n",
    "Enter the filename:  I am done\n",
    "File 'I am done' not found. Please enter a valid filename.\n",
    "Enter the filename:  quit\n",
    "```"
   ]
  },
  {
   "cell_type": "code",
   "execution_count": 7,
   "id": "a664f044",
   "metadata": {
    "colab": {
     "base_uri": "https://localhost:8080/"
    },
    "id": "a664f044",
    "outputId": "f06443e5-09fc-4241-bae3-1dc8044d3c86"
   },
   "outputs": [
    {
     "name": "stdout",
     "output_type": "stream",
     "text": [
      "Enter the filename (enter 'quit' to exit):  A-Tale-of-Two-Cities.txt\n"
     ]
    },
    {
     "name": "stdout",
     "output_type": "stream",
     "text": [
      "19666\n"
     ]
    },
    {
     "name": "stdout",
     "output_type": "stream",
     "text": [
      "Enter the filename (enter 'quit' to exit):  little_women.txt\n"
     ]
    },
    {
     "name": "stdout",
     "output_type": "stream",
     "text": [
      "21050\n"
     ]
    },
    {
     "name": "stdout",
     "output_type": "stream",
     "text": [
      "Enter the filename (enter 'quit' to exit):  quit\n"
     ]
    }
   ],
   "source": [
    "if not os.path.exists('A-Tale-of-Two-Cities.txt'):\n",
    "    !wget https://raw.githubusercontent.com/giswqs/geosdemo/master/docs/python/data/A-Tale-of-Two-Cities.txt\n",
    "if not os.path.exists('little_women.txt'):\n",
    "    !wget https://raw.githubusercontent.com/giswqs/geosdemo/master/docs/python/data/little_women.txt\n",
    "if not os.path.exists('alice.txt'):\n",
    "    !wget https://raw.githubusercontent.com/giswqs/geosdemo/master/docs/python/data/alice.txt\n",
    "\n",
    "while True:\n",
    "    fname = input(\"Enter the filename (enter 'quit' to exit): \")\n",
    "    if fname == 'quit':\n",
    "        break\n",
    "    try:\n",
    "        with open(fname, encoding='utf-8') as f:\n",
    "            contents = f.read()\n",
    "        words = contents.split()\n",
    "        print(len(set(words)))\n",
    "    except FileNotFoundError:\n",
    "        print(f\"File {fname} not found. Please enter a valid filename, or 'quit' to exit.\")"
   ]
  },
  {
   "cell_type": "code",
   "execution_count": null,
   "id": "61a39b8a",
   "metadata": {
    "id": "61a39b8a"
   },
   "outputs": [],
   "source": []
  }
 ],
 "metadata": {
  "colab": {
   "provenance": []
  },
  "kernelspec": {
   "display_name": "Python 3 (ipykernel)",
   "language": "python",
   "name": "python3"
  },
  "language_info": {
   "codemirror_mode": {
    "name": "ipython",
    "version": 3
   },
   "file_extension": ".py",
   "mimetype": "text/x-python",
   "name": "python",
   "nbconvert_exporter": "python",
   "pygments_lexer": "ipython3",
   "version": "3.9.16"
  }
 },
 "nbformat": 4,
 "nbformat_minor": 5
}
