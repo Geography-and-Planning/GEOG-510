{
 "cells": [
  {
   "attachments": {},
   "cell_type": "markdown",
   "id": "0",
   "metadata": {},
   "source": [
    "[![image](https://colab.research.google.com/assets/colab-badge.svg)](https://colab.research.google.com/github/zyang91/GEOG-510/blob/main/python_code/Dictionaries.ipynb)"
   ]
  },
  {
   "cell_type": "markdown",
   "id": "1",
   "metadata": {},
   "source": [
    "# Coverts Tuple to List"
   ]
  },
  {
   "cell_type": "code",
   "execution_count": null,
   "id": "2",
   "metadata": {},
   "outputs": [],
   "source": [
    "test = (\"hann\", \"matt\", \"Eriv\")\n",
    "test"
   ]
  },
  {
   "cell_type": "code",
   "execution_count": null,
   "id": "3",
   "metadata": {},
   "outputs": [],
   "source": [
    "tests = list(test)\n",
    "tests"
   ]
  },
  {
   "cell_type": "markdown",
   "id": "4",
   "metadata": {},
   "source": [
    "# Dictionaries\n",
    "\n",
    "In this lecture you’ll learn how to use Python’s dictionaries, which allow you to connect pieces of related information. You’ll learn how to access the information once it’s in a dictionary and how to modify that information. Because dictionaries can store an almost limitless amount of information, I’ll show you how to loop through the data in a dictionary. Additionally, you’ll learn to nest dictionaries inside lists, lists inside dictionaries, and even dictionaries inside other dictionaries.\n",
    "\n",
    "Understanding dictionaries allows you to model a variety of real-world objects more accurately. You’ll be able to create a dictionary representing a person and then store as much information as you want about that person. You can store their name, age, location, profession, and any other aspect of a person you can describe. You’ll be able to store any two kinds of information that can be matched up, such as a list of words and their meanings, a list of people’s names and their favorite numbers, a list of mountains and their elevations, and so forth.\n",
    "\n",
    "\n",
    "## A SIMPLE DICTIONARY and Basic function"
   ]
  },
  {
   "cell_type": "markdown",
   "id": "5",
   "metadata": {},
   "source": [
    "### Example 1"
   ]
  },
  {
   "cell_type": "code",
   "execution_count": null,
   "id": "6",
   "metadata": {},
   "outputs": [],
   "source": [
    "students = {\"wyu\": \"faculty\", \"zyang\": \"faculty\", \"wma999\": \"student\", \"lwill\": \"staff\"}"
   ]
  },
  {
   "cell_type": "code",
   "execution_count": null,
   "id": "7",
   "metadata": {},
   "outputs": [],
   "source": [
    "students[\"wyu\"]"
   ]
  },
  {
   "cell_type": "code",
   "execution_count": null,
   "id": "8",
   "metadata": {},
   "outputs": [],
   "source": [
    "students[\"wma999\"]"
   ]
  },
  {
   "cell_type": "code",
   "execution_count": null,
   "id": "9",
   "metadata": {},
   "outputs": [],
   "source": [
    "students[\"zyang\"] = \"student\"  # make changes\n",
    "students"
   ]
  },
  {
   "cell_type": "code",
   "execution_count": null,
   "id": "10",
   "metadata": {},
   "outputs": [],
   "source": [
    "# looking for how many item within the list\n",
    "len(students)"
   ]
  },
  {
   "cell_type": "code",
   "execution_count": null,
   "id": "11",
   "metadata": {},
   "outputs": [],
   "source": [
    "# added new item in the list\n",
    "students[\"luke45\"] = \"student\"\n",
    "students"
   ]
  },
  {
   "cell_type": "code",
   "execution_count": null,
   "id": "12",
   "metadata": {},
   "outputs": [],
   "source": [
    "# delete an item from the list\n",
    "del students[\"wma999\"]\n",
    "students"
   ]
  },
  {
   "cell_type": "code",
   "execution_count": null,
   "id": "13",
   "metadata": {},
   "outputs": [],
   "source": [
    "# looking for key item in the dictionaries\n",
    "students.keys()"
   ]
  },
  {
   "cell_type": "code",
   "execution_count": null,
   "id": "14",
   "metadata": {},
   "outputs": [],
   "source": [
    "# looking for values\n",
    "students.values()"
   ]
  },
  {
   "cell_type": "code",
   "execution_count": null,
   "id": "15",
   "metadata": {},
   "outputs": [],
   "source": [
    "# looking for key and correspond values, return as a list\n",
    "students.items()"
   ]
  },
  {
   "cell_type": "code",
   "execution_count": null,
   "id": "16",
   "metadata": {},
   "outputs": [],
   "source": [
    "for student in students.keys():\n",
    "    students[student] = students[student].title()\n",
    "students"
   ]
  },
  {
   "cell_type": "code",
   "execution_count": null,
   "id": "17",
   "metadata": {},
   "outputs": [],
   "source": [
    "for student in students:  # looping through the key\n",
    "    students[student] = students[student].title()\n",
    "students"
   ]
  },
  {
   "cell_type": "code",
   "execution_count": null,
   "id": "18",
   "metadata": {},
   "outputs": [],
   "source": [
    "students = {\"wyu\": \"faculty\", \"zyang\": \"faculty\", \"wma999\": \"student\", \"lwill\": \"staff\"}"
   ]
  },
  {
   "cell_type": "code",
   "execution_count": null,
   "id": "19",
   "metadata": {},
   "outputs": [],
   "source": [
    "for key, value in students.items():\n",
    "    students[key] = value.title()\n",
    "students"
   ]
  },
  {
   "cell_type": "code",
   "execution_count": null,
   "id": "20",
   "metadata": {},
   "outputs": [],
   "source": [
    "for key, value in students.items():\n",
    "    students[key] = \"Binghamton \" + value.title()\n",
    "students"
   ]
  },
  {
   "cell_type": "code",
   "execution_count": null,
   "id": "21",
   "metadata": {},
   "outputs": [],
   "source": [
    "employees = {}"
   ]
  },
  {
   "cell_type": "code",
   "execution_count": null,
   "id": "22",
   "metadata": {},
   "outputs": [],
   "source": [
    "employees[\"zyang99\"] = \"staff\"\n",
    "employees"
   ]
  },
  {
   "cell_type": "markdown",
   "id": "23",
   "metadata": {},
   "source": [
    "### Example 2"
   ]
  },
  {
   "cell_type": "code",
   "execution_count": null,
   "id": "24",
   "metadata": {},
   "outputs": [],
   "source": [
    "gpa = {\"chen\": 3.8, \"liu\": 3.7, \"Eric\": 4, \"Wan\": 4.0}\n",
    "gpa"
   ]
  },
  {
   "cell_type": "code",
   "execution_count": null,
   "id": "25",
   "metadata": {},
   "outputs": [],
   "source": [
    "gpa[\"liu\"]"
   ]
  },
  {
   "cell_type": "markdown",
   "id": "26",
   "metadata": {},
   "source": [
    "### Example 3"
   ]
  },
  {
   "cell_type": "code",
   "execution_count": null,
   "id": "27",
   "metadata": {},
   "outputs": [],
   "source": [
    "alien_0 = {\"x_position\": 0, \"y_position\": 25, \"speed\": \"medium\"}\n",
    "print(f\"Original position: {alien_0['x_position']}\")\n",
    "\n",
    "# Move the alien to the right.\n",
    "# Determine how far to move the alien based on its current speed.\n",
    "if alien_0[\"speed\"] == \"slow\":\n",
    "    x_increment = 1\n",
    "elif alien_0[\"speed\"] == \"medium\":\n",
    "    x_increment = 2\n",
    "else:\n",
    "    # This must be a fast alien.\n",
    "    x_increment = 3\n",
    "\n",
    "# The new position is the old position plus the increment.\n",
    "alien_0[\"x_position\"] = alien_0[\"x_position\"] + x_increment\n",
    "\n",
    "print(f\"New position: {alien_0['x_position']}\")"
   ]
  },
  {
   "cell_type": "markdown",
   "id": "28",
   "metadata": {},
   "source": [
    "## LOOPING THROUGH A DICTIONARY\n",
    "\n",
    "A single Python dictionary can contain just a few key-value pairs or millions of pairs. Because a dictionary can contain large amounts of data, Python lets you loop through a dictionary. Dictionaries can be used to store information in a variety of ways; therefore, several different ways exist to loop through them. You can loop through all of a dictionary’s key-value pairs, through its keys, or through its values.\n",
    "\n",
    "### Looping Through All Key-Value Pairs\n",
    "\n",
    "Before we explore the different approaches to looping, let’s consider a new dictionary designed to store information about a user on a website. The following dictionary would store one person’s username, first name, and last name:"
   ]
  },
  {
   "cell_type": "code",
   "execution_count": null,
   "id": "29",
   "metadata": {},
   "outputs": [],
   "source": [
    "user_0 = {\n",
    "    \"username\": \"efermi\",\n",
    "    \"first\": \"enrico\",\n",
    "    \"last\": \"fermi\",\n",
    "}\n",
    "\n",
    "for key, value in user_0.items():\n",
    "    print(f\"\\nKey: {key}\")\n",
    "    print(f\"Value: {value}\")"
   ]
  },
  {
   "cell_type": "markdown",
   "id": "30",
   "metadata": {},
   "source": [
    "As shown above, to write a for loop for a dictionary, you create names for the two variables that will hold the key and value in each key-value pair. You can choose any names you want for these two variables. This code would work just as well if you had used abbreviations for the variable names, like this:\n",
    "\n",
    "`for k, v in user_0.items()`\n",
    "\n",
    "### Looping Through All the Keys in a Dictionary\n",
    "\n",
    "The keys() method is useful when you don’t need to work with all of the values in a dictionary. Let’s loop through the favorite_languages dictionary and print the names of everyone who took the poll:"
   ]
  },
  {
   "cell_type": "code",
   "execution_count": null,
   "id": "31",
   "metadata": {},
   "outputs": [],
   "source": [
    "favorite_languages = {\n",
    "    \"jen\": \"python\",\n",
    "    \"sarah\": \"c\",\n",
    "    \"edward\": \"ruby\",\n",
    "    \"phil\": \"python\",\n",
    "}\n",
    "\n",
    "for name in favorite_languages.keys():\n",
    "    print(name.title())"
   ]
  },
  {
   "cell_type": "code",
   "execution_count": null,
   "id": "32",
   "metadata": {},
   "outputs": [],
   "source": [
    "favorite_languages = {\n",
    "    \"jen\": \"python\",\n",
    "    \"sarah\": \"c\",\n",
    "    \"edward\": \"ruby\",\n",
    "    \"phil\": \"python\",\n",
    "}\n",
    "\n",
    "if \"erin\" not in favorite_languages.keys():  # same with list\n",
    "    print(\"Erin, please take our poll!\")"
   ]
  },
  {
   "cell_type": "markdown",
   "id": "33",
   "metadata": {},
   "source": [
    "### Looping Through a Dictionary’s Keys in a Particular Order\n",
    "\n",
    "Starting in Python 3.7, looping through a dictionary returns the items in the same order they were inserted. Sometimes, though, you’ll want to loop through a dictionary in a different order.\n",
    "\n",
    "One way to do this is to sort the keys as they’re returned in the for loop. You can use the sorted() function to get a copy of the keys in order:"
   ]
  },
  {
   "cell_type": "code",
   "execution_count": null,
   "id": "34",
   "metadata": {},
   "outputs": [],
   "source": [
    "favorite_languages = {\n",
    "    \"jen\": \"python\",\n",
    "    \"sarah\": \"c\",\n",
    "    \"edward\": \"ruby\",\n",
    "    \"phil\": \"python\",\n",
    "}\n",
    "\n",
    "for name in sorted(favorite_languages):\n",
    "    print(f\"{name.title()}, thank you for taking the poll.\")"
   ]
  },
  {
   "cell_type": "markdown",
   "id": "35",
   "metadata": {},
   "source": [
    "### Looping Through All Values in a Dictionary\n",
    "\n",
    "If you are primarily interested in the values that a dictionary contains, you can use the values() method to return a list of values without any keys. For example, say we simply want a list of all languages chosen in our programming language poll without the name of the person who chose each language:"
   ]
  },
  {
   "cell_type": "code",
   "execution_count": null,
   "id": "36",
   "metadata": {},
   "outputs": [],
   "source": [
    "print(\"The following languages have been mentioned:\")\n",
    "for language in favorite_languages.values():\n",
    "    print(language.title())"
   ]
  },
  {
   "cell_type": "markdown",
   "id": "37",
   "metadata": {},
   "source": [
    "This approach pulls all the values from the dictionary without checking for repeats. That might work fine with a small number of values, but in a poll with a large number of respondents, this would result in a very repetitive list. To see each language chosen without repetition, we can use a set. A set is a collection in which each item must be unique:"
   ]
  },
  {
   "cell_type": "code",
   "execution_count": null,
   "id": "38",
   "metadata": {},
   "outputs": [],
   "source": [
    "print(\"The following languages have been mentioned:\")\n",
    "for language in set(favorite_languages.values()):\n",
    "    print(language.title())"
   ]
  },
  {
   "cell_type": "markdown",
   "id": "39",
   "metadata": {},
   "source": [
    "When you wrap set() around a list that contains duplicate items, Python identifies the unique items in the list and builds a set from those items. We use set() to pull out the unique languages in favorite_languages.values().\n",
    "\n",
    "## NESTING\n",
    "\n",
    "Sometimes you’ll want to store multiple dictionaries in a list, or a list of items as a value in a dictionary. This is called nesting. You can nest dictionaries inside a list, a list of items inside a dictionary, or even a dictionary inside another dictionary. Nesting is a powerful feature, as the following examples will demonstrate.\n",
    "\n",
    "### A List of Dictionaries\n",
    "\n",
    "The alien_0 dictionary contains a variety of information about one alien, but it has no room to store information about a second alien, much less a screen full of aliens. How can you manage a fleet of aliens? One way is to make a list of aliens in which each alien is a dictionary of information about that alien. For example, the following code builds a list of three aliens:"
   ]
  },
  {
   "cell_type": "code",
   "execution_count": null,
   "id": "40",
   "metadata": {},
   "outputs": [],
   "source": [
    "alien_0 = {\"color\": \"green\", \"points\": 5}\n",
    "alien_1 = {\"color\": \"yellow\", \"points\": 10}\n",
    "alien_2 = {\"color\": \"red\", \"points\": 15}\n",
    "\n",
    "aliens = [alien_0, alien_1, alien_2]\n",
    "\n",
    "for alien in aliens:\n",
    "    print(alien)"
   ]
  },
  {
   "cell_type": "code",
   "execution_count": null,
   "id": "41",
   "metadata": {},
   "outputs": [],
   "source": [
    "# Make an empty list for storing aliens.\n",
    "aliens = []\n",
    "\n",
    "# Make 30 green aliens.\n",
    "for alien_number in range(30):\n",
    "    new_alien = {\"color\": \"green\", \"points\": 5, \"speed\": \"slow\"}\n",
    "    aliens.append(new_alien)\n",
    "# Show the first 5 aliens.\n",
    "for alien in aliens[:5]:\n",
    "    print(alien)\n",
    "    print(\"...\")\n",
    "\n",
    "# Show how many aliens have been created.\n",
    "print(f\"Total number of aliens: {len(aliens)}\")"
   ]
  },
  {
   "cell_type": "markdown",
   "id": "42",
   "metadata": {},
   "source": [
    "It’s common to store a number of dictionaries in a list when each dictionary contains many kinds of information about one object. For example, you might create a dictionary for each user on a website. All of the dictionaries in the list should have an identical structure so you can loop through the list and work with each dictionary object in the same way.\n",
    "\n",
    "### A List in a Dictionary\n",
    "\n",
    "Rather than putting a dictionary inside a list, it’s sometimes useful to put a list inside a dictionary. For example, consider how you might describe a pizza that someone is ordering. If you were to use only a list, all you could really store is a list of the pizza’s toppings. With a dictionary, a list of toppings can be just one aspect of the pizza you’re describing.\n",
    "\n",
    "In the following example, two kinds of information are stored for each pizza: a type of crust and a list of toppings. The list of toppings is a value associated with the key 'toppings'. To use the items in the list, we give the name of the dictionary and the key 'toppings', as we would any value in the dictionary. Instead of returning a single value, we get a list of toppings:"
   ]
  },
  {
   "cell_type": "code",
   "execution_count": null,
   "id": "43",
   "metadata": {},
   "outputs": [],
   "source": [
    "avorite_languages = {\n",
    "    \"jen\": [\"python\", \"ruby\"],\n",
    "    \"sarah\": [\"c\"],\n",
    "    \"edward\": [\"ruby\", \"go\"],\n",
    "    \"phil\": [\"python\", \"haskell\"],\n",
    "}\n",
    "\n",
    "for name, languages in favorite_languages.items():\n",
    "    print(f\"\\n{name.title()}'s favorite languages are:\")\n",
    "    for language in languages:\n",
    "        print(f\"\\t{language.title()}\")"
   ]
  },
  {
   "cell_type": "markdown",
   "id": "44",
   "metadata": {},
   "source": [
    "### A Dictionary in a Dictionary\n",
    "\n",
    "You can nest a dictionary inside another dictionary, but your code can get complicated quickly when you do. For example, if you have several users for a website, each with a unique username, you can use the usernames as the keys in a dictionary. You can then store information about each user by using a dictionary as the value associated with their username. In the following listing, we store three pieces of information about each user: their first name, last name, and location. We’ll access this information by looping through the usernames and the dictionary of information associated with each username:"
   ]
  },
  {
   "cell_type": "code",
   "execution_count": null,
   "id": "45",
   "metadata": {},
   "outputs": [],
   "source": [
    "users = {\n",
    "    \"aeinstein\": {\n",
    "        \"first\": \"albert\",\n",
    "        \"last\": \"einstein\",\n",
    "        \"location\": \"princeton\",\n",
    "    },\n",
    "    \"mcurie\": {\n",
    "        \"first\": \"marie\",\n",
    "        \"last\": \"curie\",\n",
    "        \"location\": \"paris\",\n",
    "    },\n",
    "}\n",
    "\n",
    "for username, user_info in users.items():\n",
    "    print(f\"\\nUsername: {username}\")\n",
    "    full_name = f\"{user_info['first']} {user_info['last']}\"\n",
    "    location = user_info[\"location\"]\n",
    "\n",
    "    print(f\"\\tFull name: {full_name.title()}\")\n",
    "    print(f\"\\tLocation: {location.title()}\")"
   ]
  },
  {
   "cell_type": "markdown",
   "id": "46",
   "metadata": {},
   "source": [
    "# Example 1 Continue"
   ]
  },
  {
   "cell_type": "code",
   "execution_count": null,
   "id": "47",
   "metadata": {},
   "outputs": [],
   "source": [
    "students = {\n",
    "    \"wyu\": {\"name\": \"Wanh\", \"type\": \"faculty\", \"department\": \"Geography\", \"age\": 18},\n",
    "    \"zyang\": \"faculty\",\n",
    "    \"wma999\": \"student\",\n",
    "    \"lwill\": \"staff\",\n",
    "}\n",
    "students[\"wyu\"][\"department\"]"
   ]
  },
  {
   "cell_type": "code",
   "execution_count": null,
   "id": "48",
   "metadata": {},
   "outputs": [],
   "source": [
    "students[\"zyang\"][\"department\"]"
   ]
  },
  {
   "cell_type": "code",
   "execution_count": null,
   "id": "49",
   "metadata": {},
   "outputs": [],
   "source": [
    "students = {\n",
    "    \"wyu\": {\n",
    "        \"name\": \"Wanh\",\n",
    "        \"type\": \"faculty\",\n",
    "        \"department\": \"Geography\",\n",
    "        \"age\": 18,\n",
    "        \"address\": {\n",
    "            \"street\": \"4400 Parkway E\",\n",
    "            \"city\": \"Vestal\",\n",
    "            \"state\": \"NY\",\n",
    "            \"zip\": 13850,\n",
    "        },\n",
    "    },\n",
    "    \"zyang\": [\"Zhanchao\", \"student\", \"envi\", 19],\n",
    "    \"wma999\": \"student\",\n",
    "    \"lwill\": \"staff\",\n",
    "}\n",
    "students[\"zyang\"][2]"
   ]
  },
  {
   "cell_type": "code",
   "execution_count": null,
   "id": "50",
   "metadata": {},
   "outputs": [],
   "source": [
    "students = {\n",
    "    \"wyu\": {\n",
    "        \"name\": \"Wanh\",\n",
    "        \"type\": \"faculty\",\n",
    "        \"department\": \"Geography\",\n",
    "        \"age\": 18,\n",
    "        \"address\": {\n",
    "            \"street\": \"4400 Parkway E\",\n",
    "            \"city\": \"Vestal\",\n",
    "            \"state\": \"NY\",\n",
    "            \"zip\": 13850,\n",
    "        },\n",
    "    },\n",
    "    \"zyang\": [\"Zhanchao\", \"student\", \"envi\", 19],\n",
    "    \"wma999\": \"student\",\n",
    "    \"lwill\": \"staff\",\n",
    "}\n",
    "students[\"wyu\"][\"address\"][\"zip\"]"
   ]
  },
  {
   "cell_type": "code",
   "execution_count": null,
   "id": "51",
   "metadata": {},
   "outputs": [],
   "source": [
    "# case sensitive . if doesn't match it will run into error (case sensitive)\n",
    "students[\"wyu\"][\"address\"][\"Zip\"]"
   ]
  },
  {
   "cell_type": "code",
   "execution_count": null,
   "id": "52",
   "metadata": {},
   "outputs": [],
   "source": [
    "# 'get' function can avoid run into error, but it can be None\n",
    "students[\"wyu\"][\"address\"].get(\"Zip\")"
   ]
  },
  {
   "cell_type": "code",
   "execution_count": null,
   "id": "53",
   "metadata": {},
   "outputs": [],
   "source": [
    "students[\"wyu\"][\"address\"].get(\"Zip\") is None"
   ]
  },
  {
   "cell_type": "code",
   "execution_count": null,
   "id": "54",
   "metadata": {},
   "outputs": [],
   "source": [
    "# allow  computer give users a message if not exisit\n",
    "students[\"wyu\"][\"address\"].get(\"Zip\", \"This item does not exist in the database\")"
   ]
  },
  {
   "cell_type": "code",
   "execution_count": null,
   "id": "55",
   "metadata": {},
   "outputs": [],
   "source": [
    "students[\"wyu\"][\"address\"].get(\"zip\", \"This item does not exist in the database\")"
   ]
  },
  {
   "cell_type": "markdown",
   "id": "56",
   "metadata": {},
   "source": [
    "## SUMMARY\n",
    "\n",
    "In this chapter you learned how to define a dictionary and how to work with the information stored in a dictionary. You learned how to access and modify individual elements in a dictionary, and how to loop through all of the information in a dictionary. You learned to loop through a dictionary’s key-value pairs, its keys, and its values. You also learned how to nest multiple dictionaries in a list, nest lists in a dictionary, and nest a dictionary inside a dictionary.|"
   ]
  },
  {
   "cell_type": "markdown",
   "id": "57",
   "metadata": {},
   "source": [
    "## References\n",
    "\n",
    "-   Matthes, Eric (2022). _Python Crash Course, 3rd Edition: A Hands-On, Project-Based Introduction to Programming_. No Starch Press. ISBN: 978-1593279288. ([Publisher website](https://nostarch.com/python-crash-course-3rd-edition))\n",
    "- Dr.Qiusheng Wu Online lecture from Youtube"
   ]
  }
 ],
 "metadata": {
  "kernelspec": {
   "display_name": "Python 3 (ipykernel)",
   "language": "python",
   "name": "python3"
  },
  "language_info": {
   "codemirror_mode": {
    "name": "ipython",
    "version": 3
   },
   "file_extension": ".py",
   "mimetype": "text/x-python",
   "name": "python",
   "nbconvert_exporter": "python",
   "pygments_lexer": "ipython3",
   "version": "3.9.16"
  }
 },
 "nbformat": 4,
 "nbformat_minor": 5
}
