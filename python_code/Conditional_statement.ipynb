{
 "cells": [
  {
   "cell_type": "markdown",
   "id": "f6a527ef",
   "metadata": {},
   "source": [
    "# Conditional Statements\n",
    "\n",
    "Programming often involves examining a set of conditions and deciding which action to take based on those conditions. Python’s if statement allows you to examine the current state of a program and respond appropriately to that state.\n",
    "\n",
    "In this lecture you’ll learn to write conditional tests, which allow you to check any condition of interest. You’ll learn to write simple if statements, and you’ll learn how to create a more complex series of if statements to identify when the exact conditions you want are present. You’ll then apply this concept to lists, so you’ll be able to write a for loop that handles most items in a list one way but handles certain items with specific values in a different way.\n",
    "\n",
    "## A SIMPLE EXAMPLE\n",
    "\n",
    "The following short example shows how if tests let you respond to special situations correctly. Imagine you have a list of cars and you want to print out the name of each car. Car names are proper names, so the names of most cars should be printed in title case. However, the value 'bmw' should be printed in all uppercase. The following code loops through a list of car names and looks for the value 'bmw'. Whenever the value is 'bmw', it’s printed in uppercase instead of title case:"
   ]
  },
  {
   "cell_type": "code",
   "execution_count": 1,
   "id": "d899ddf3",
   "metadata": {},
   "outputs": [
    {
     "name": "stdout",
     "output_type": "stream",
     "text": [
      "Audi\n",
      "BMW\n",
      "Subaru\n",
      "Toyota\n"
     ]
    }
   ],
   "source": [
    "cars = ['audi', 'bmw', 'subaru', 'toyota']\n",
    "\n",
    "for car in cars:\n",
    "    if car == 'bmw':\n",
    "        print(car.upper())\n",
    "    else:\n",
    "        print(car.title())"
   ]
  },
  {
   "cell_type": "code",
   "execution_count": 2,
   "id": "b4919c2d",
   "metadata": {},
   "outputs": [
    {
     "name": "stdout",
     "output_type": "stream",
     "text": [
      "Audi\n",
      "BMW\n",
      "Subaru\n",
      "Toyota\n"
     ]
    }
   ],
   "source": [
    "cars = ['audi', 'bmw', 'subaru', 'toyota']\n",
    "\n",
    "# first variable dosen't matter (can be anything, e.g. car can be instead of b)\n",
    "\n",
    "for b in cars:\n",
    "    if b == 'bmw':\n",
    "        print(b.upper())\n",
    "    else:\n",
    "        print(b.title())"
   ]
  },
  {
   "cell_type": "code",
   "execution_count": 5,
   "id": "5d8b33a7",
   "metadata": {},
   "outputs": [
    {
     "name": "stdout",
     "output_type": "stream",
     "text": [
      "AUDI\n",
      "Bmw\n",
      "SUBARU\n",
      "TOYOTA\n"
     ]
    }
   ],
   "source": [
    "cars = ['audi', 'bmw', 'subaru', 'toyota']\n",
    "# != means unequal.\n",
    "for b in cars:\n",
    "    if b != 'bmw':\n",
    "        print(b.upper())\n",
    "    else:\n",
    "        print(b.title())"
   ]
  },
  {
   "cell_type": "markdown",
   "id": "14c5261d",
   "metadata": {},
   "source": [
    "### Additional exercise"
   ]
  },
  {
   "cell_type": "code",
   "execution_count": 4,
   "id": "4229213c",
   "metadata": {},
   "outputs": [
    {
     "name": "stdout",
     "output_type": "stream",
     "text": [
      "you need do extra work\n",
      "you are good to go.\n",
      "you are good to go.\n",
      "you are good to go.\n",
      "you need do extra work\n"
     ]
    }
   ],
   "source": [
    "students = ['geography', 'chemistry', 'studio art', 'math', 'geography']\n",
    "for student in students:\n",
    "    if student == 'geography':\n",
    "        print('you need do extra work')\n",
    "    else:\n",
    "        print('you are good to go.')"
   ]
  },
  {
   "cell_type": "markdown",
   "id": "aa7560e0",
   "metadata": {},
   "source": [
    "## CONDITIONAL TESTS\n",
    "\n",
    "At the heart of every if statement is an expression that can be evaluated as True or False and is called a conditional test. Python uses the values True and False to decide whether the code in an if statement should be executed. If a conditional test evaluates to True, Python executes the code following the if statement. If the test evaluates to False, Python ignores the code following the if statement.\n",
    "\n",
    "### Checking for Equality\n",
    "\n",
    "Most conditional tests compare the current value of a variable to a specific value of interest. The simplest conditional test checks whether the value of a variable is equal to the value of interest:"
   ]
  },
  {
   "cell_type": "code",
   "execution_count": 6,
   "id": "e55b5c91",
   "metadata": {},
   "outputs": [
    {
     "data": {
      "text/plain": [
       "True"
      ]
     },
     "execution_count": 6,
     "metadata": {},
     "output_type": "execute_result"
    }
   ],
   "source": [
    "car = 'bmw' #assign value to variable\n",
    "car == 'bmw' #either true or false"
   ]
  },
  {
   "cell_type": "code",
   "execution_count": 8,
   "id": "77eedeed",
   "metadata": {},
   "outputs": [
    {
     "data": {
      "text/plain": [
       "True"
      ]
     },
     "execution_count": 8,
     "metadata": {},
     "output_type": "execute_result"
    }
   ],
   "source": [
    "result = car =='bmw'\n",
    "result"
   ]
  },
  {
   "cell_type": "code",
   "execution_count": 9,
   "id": "dae52134",
   "metadata": {},
   "outputs": [
    {
     "data": {
      "text/plain": [
       "True"
      ]
     },
     "execution_count": 9,
     "metadata": {},
     "output_type": "execute_result"
    }
   ],
   "source": [
    "result == True"
   ]
  },
  {
   "cell_type": "code",
   "execution_count": 10,
   "id": "17a70dde",
   "metadata": {},
   "outputs": [
    {
     "data": {
      "text/plain": [
       "True"
      ]
     },
     "execution_count": 10,
     "metadata": {},
     "output_type": "execute_result"
    }
   ],
   "source": [
    "result is True #check something true or not"
   ]
  },
  {
   "cell_type": "code",
   "execution_count": 11,
   "id": "5f0be1ce",
   "metadata": {},
   "outputs": [
    {
     "data": {
      "text/plain": [
       "False"
      ]
     },
     "execution_count": 11,
     "metadata": {},
     "output_type": "execute_result"
    }
   ],
   "source": [
    "car = 'BMW' #assign value to variable\n",
    "car == 'bmw' #case sensitive"
   ]
  },
  {
   "cell_type": "markdown",
   "id": "cfa240e9",
   "metadata": {},
   "source": [
    "### Ignoring Case When Checking for Equality\n",
    "\n",
    "Testing for equality is case sensitive in Python. For example, two values with different capitalization are not considered equal:"
   ]
  },
  {
   "cell_type": "code",
   "execution_count": 12,
   "id": "a2b1a104",
   "metadata": {},
   "outputs": [
    {
     "data": {
      "text/plain": [
       "False"
      ]
     },
     "execution_count": 12,
     "metadata": {},
     "output_type": "execute_result"
    }
   ],
   "source": [
    "car = 'Audi'\n",
    "car == 'audi'"
   ]
  },
  {
   "cell_type": "markdown",
   "id": "d1a5518f",
   "metadata": {},
   "source": [
    "If case matters, this behavior is advantageous. But if case doesn’t matter and instead you just want to test the value of a variable, you can convert the variable’s value to lowercase before doing the comparison:"
   ]
  },
  {
   "cell_type": "code",
   "execution_count": 13,
   "id": "df9ebb8b",
   "metadata": {},
   "outputs": [
    {
     "data": {
      "text/plain": [
       "True"
      ]
     },
     "execution_count": 13,
     "metadata": {},
     "output_type": "execute_result"
    }
   ],
   "source": [
    "car.lower()== 'audi'"
   ]
  },
  {
   "cell_type": "code",
   "execution_count": 14,
   "id": "07f6a57d",
   "metadata": {},
   "outputs": [
    {
     "data": {
      "text/plain": [
       "False"
      ]
     },
     "execution_count": 14,
     "metadata": {},
     "output_type": "execute_result"
    }
   ],
   "source": [
    "car.lower()== 'audi'.upper #demo, only need to change one side"
   ]
  },
  {
   "cell_type": "markdown",
   "id": "bed38c85",
   "metadata": {},
   "source": [
    "Websites enforce certain rules for the data that users enter in a manner similar to this. For example, a site might use a conditional test like this to ensure that every user has a truly unique username, not just a variation on the capitalization of another person’s username. When someone submits a new username, that new username is converted to lowercase and compared to the lowercase versions of all existing usernames. During this check, a username like 'John' will be rejected if any variation of 'john' is already in use.\n",
    "\n",
    "### Checking for Inequality\n",
    "\n",
    "When you want to determine whether two values are not equal, you can combine an exclamation point and an equal sign (!=). The exclamation point represents not, as it does in many programming languages.\n",
    "\n",
    "Let’s use another if statement to examine how to use the inequality operator. We’ll store a requested pizza topping in a variable and then print a message if the person did not order anchovies:"
   ]
  },
  {
   "cell_type": "code",
   "execution_count": 3,
   "id": "50660317",
   "metadata": {},
   "outputs": [
    {
     "name": "stdout",
     "output_type": "stream",
     "text": [
      "Hold on until further notice\n"
     ]
    }
   ],
   "source": [
    "request ='mushroom'\n",
    "if request != 'sugar':\n",
    "    print('Hold on until further notice')"
   ]
  },
  {
   "cell_type": "markdown",
   "id": "f0eeb24a",
   "metadata": {},
   "source": [
    "### Numerical Comparisons\n",
    "\n",
    "Testing numerical values is pretty straightforward. "
   ]
  },
  {
   "cell_type": "code",
   "execution_count": 4,
   "id": "c939d5e0",
   "metadata": {},
   "outputs": [
    {
     "data": {
      "text/plain": [
       "True"
      ]
     },
     "execution_count": 4,
     "metadata": {},
     "output_type": "execute_result"
    }
   ],
   "source": [
    "age = 18\n",
    "age == 18\n"
   ]
  },
  {
   "cell_type": "code",
   "execution_count": 5,
   "id": "ce598ba4",
   "metadata": {},
   "outputs": [
    {
     "name": "stdout",
     "output_type": "stream",
     "text": [
      "This not the right answer. Please try again!\n"
     ]
    }
   ],
   "source": [
    "answer = 17\n",
    "if answer != 42:\n",
    "    print('This not the right answer. Please try again!')"
   ]
  },
  {
   "cell_type": "markdown",
   "id": "43589aae",
   "metadata": {},
   "source": [
    "You can include various mathematical comparisons in your conditional statements as well, such as less than, less than or equal to, greater than, and greater than or equal to:"
   ]
  },
  {
   "cell_type": "code",
   "execution_count": 6,
   "id": "25ec0e54",
   "metadata": {},
   "outputs": [
    {
     "data": {
      "text/plain": [
       "True"
      ]
     },
     "execution_count": 6,
     "metadata": {},
     "output_type": "execute_result"
    }
   ],
   "source": [
    "age = 19\n",
    "age < 21"
   ]
  },
  {
   "cell_type": "code",
   "execution_count": 7,
   "id": "2965c496",
   "metadata": {},
   "outputs": [
    {
     "data": {
      "text/plain": [
       "True"
      ]
     },
     "execution_count": 7,
     "metadata": {},
     "output_type": "execute_result"
    }
   ],
   "source": [
    "age<= 21"
   ]
  },
  {
   "cell_type": "code",
   "execution_count": 8,
   "id": "13f5b432",
   "metadata": {},
   "outputs": [
    {
     "data": {
      "text/plain": [
       "False"
      ]
     },
     "execution_count": 8,
     "metadata": {},
     "output_type": "execute_result"
    }
   ],
   "source": [
    "age>=21"
   ]
  },
  {
   "cell_type": "code",
   "execution_count": 9,
   "id": "aa77cb99",
   "metadata": {},
   "outputs": [
    {
     "data": {
      "text/plain": [
       "False"
      ]
     },
     "execution_count": 9,
     "metadata": {},
     "output_type": "execute_result"
    }
   ],
   "source": [
    "age> 21"
   ]
  },
  {
   "cell_type": "code",
   "execution_count": 10,
   "id": "a68310b3",
   "metadata": {},
   "outputs": [
    {
     "data": {
      "text/plain": [
       "True"
      ]
     },
     "execution_count": 10,
     "metadata": {},
     "output_type": "execute_result"
    }
   ],
   "source": [
    "age<21"
   ]
  },
  {
   "cell_type": "code",
   "execution_count": 11,
   "id": "2215b022",
   "metadata": {},
   "outputs": [],
   "source": [
    "result = True"
   ]
  },
  {
   "cell_type": "code",
   "execution_count": 12,
   "id": "02e2013c",
   "metadata": {},
   "outputs": [
    {
     "data": {
      "text/plain": [
       "True"
      ]
     },
     "execution_count": 12,
     "metadata": {},
     "output_type": "execute_result"
    }
   ],
   "source": [
    "result is True"
   ]
  },
  {
   "cell_type": "markdown",
   "id": "9c78dd3c",
   "metadata": {},
   "source": [
    "### Checking Multiple Conditions\n",
    "\n",
    "You may want to check multiple conditions at the same time. For example, sometimes you might need two conditions to be True to take an action. Other times you might be satisfied with just one condition being True. The keywords and and or can help you in these situations.\n",
    "\n",
    "#### Using and to Check Multiple Conditions\n",
    "\n",
    "To check whether two conditions are both True simultaneously, use the keyword and to combine the two conditional tests; if each test passes, the overall expression evaluates to True. If either test fails or if both tests fail, the expression evaluates to False.\n"
   ]
  },
  {
   "cell_type": "code",
   "execution_count": 13,
   "id": "4bf9d7e2",
   "metadata": {},
   "outputs": [
    {
     "data": {
      "text/plain": [
       "False"
      ]
     },
     "execution_count": 13,
     "metadata": {},
     "output_type": "execute_result"
    }
   ],
   "source": [
    "a = 22\n",
    "b = 18\n",
    "a >= 21 and b>=21 #need to fulfill all conditions"
   ]
  },
  {
   "cell_type": "code",
   "execution_count": 14,
   "id": "cfd6c57c",
   "metadata": {},
   "outputs": [
    {
     "name": "stdout",
     "output_type": "stream",
     "text": [
      "You can get a scholarship from Geography department.\n"
     ]
    }
   ],
   "source": [
    "# example\n",
    "major = 'geography'\n",
    "GPA = 3.91\n",
    "if major=='geography' and GPA >= 3.8:\n",
    "    print('You can get a scholarship from Geography department.')"
   ]
  },
  {
   "cell_type": "code",
   "execution_count": 15,
   "id": "91ef7007",
   "metadata": {},
   "outputs": [
    {
     "data": {
      "text/plain": [
       "True"
      ]
     },
     "execution_count": 15,
     "metadata": {},
     "output_type": "execute_result"
    }
   ],
   "source": [
    "b = 40\n",
    "a >= 21 and b>=21 #need to fulfill all conditions, find the first false\n",
    "#check the condition for first one, if its already false, the python program \n",
    "# will do not check the second one."
   ]
  },
  {
   "cell_type": "code",
   "execution_count": 16,
   "id": "1c83ffb2",
   "metadata": {},
   "outputs": [
    {
     "data": {
      "text/plain": [
       "True"
      ]
     },
     "execution_count": 16,
     "metadata": {},
     "output_type": "execute_result"
    }
   ],
   "source": [
    "a = 22\n",
    "b = 18\n",
    "a >= 21 or b>=21 #need to find the first true"
   ]
  },
  {
   "cell_type": "markdown",
   "id": "2cac1c98",
   "metadata": {},
   "source": [
    "To improve readability, you can use parentheses around the individual tests, but they are not required. If you use parentheses, your test would look like this:"
   ]
  },
  {
   "cell_type": "code",
   "execution_count": 18,
   "id": "82fb6910",
   "metadata": {},
   "outputs": [
    {
     "data": {
      "text/plain": [
       "False"
      ]
     },
     "execution_count": 18,
     "metadata": {},
     "output_type": "execute_result"
    }
   ],
   "source": [
    "(a >= 21) and (b >= 21)"
   ]
  },
  {
   "cell_type": "code",
   "execution_count": 20,
   "id": "a2839937",
   "metadata": {},
   "outputs": [
    {
     "data": {
      "text/plain": [
       "False"
      ]
     },
     "execution_count": 20,
     "metadata": {},
     "output_type": "execute_result"
    }
   ],
   "source": [
    "c=19\n",
    "a>=21 and b>=21 and c>=21"
   ]
  },
  {
   "cell_type": "code",
   "execution_count": 26,
   "id": "3c68e129",
   "metadata": {},
   "outputs": [
    {
     "data": {
      "text/plain": [
       "True"
      ]
     },
     "execution_count": 26,
     "metadata": {},
     "output_type": "execute_result"
    }
   ],
   "source": [
    "a>=21 and b>=21 or c>=18"
   ]
  },
  {
   "cell_type": "code",
   "execution_count": 24,
   "id": "45347bca",
   "metadata": {},
   "outputs": [
    {
     "data": {
      "text/plain": [
       "True"
      ]
     },
     "execution_count": 24,
     "metadata": {},
     "output_type": "execute_result"
    }
   ],
   "source": [
    "a>=21 and (b>=21 or c>=18) # change the execute sequence"
   ]
  },
  {
   "cell_type": "markdown",
   "id": "acae60fa",
   "metadata": {},
   "source": [
    "### Using or to Check Multiple Conditions\n",
    "\n",
    "The keyword or allows you to check multiple conditions as well, but it passes when either or both of the individual tests pass. An or expression fails only when both individual tests fail.\n"
   ]
  },
  {
   "cell_type": "code",
   "execution_count": 19,
   "id": "39cdbda7",
   "metadata": {},
   "outputs": [
    {
     "data": {
      "text/plain": [
       "True"
      ]
     },
     "execution_count": 19,
     "metadata": {},
     "output_type": "execute_result"
    }
   ],
   "source": [
    "a >= 21 or b>=21"
   ]
  },
  {
   "cell_type": "markdown",
   "id": "dffb0a01",
   "metadata": {},
   "source": [
    "### Checking Whether a Value Is in a List\n",
    "\n",
    "Sometimes it’s important to check whether a list contains a certain value before taking an action. For example, you might want to check whether a new username already exists in a list of current usernames before completing someone’s registration on a website. In a mapping project, you might want to check whether a submitted location already exists in a list of known locations.\n",
    "\n",
    "To find out whether a particular value is already in a list, use the keyword in. Let’s consider some code you might write for a pizzeria. We’ll make a list of toppings a customer has requested for a pizza and then check whether certain toppings are in the list."
   ]
  },
  {
   "cell_type": "code",
   "execution_count": 30,
   "id": "c5d9c403",
   "metadata": {},
   "outputs": [
    {
     "data": {
      "text/plain": [
       "True"
      ]
     },
     "execution_count": 30,
     "metadata": {},
     "output_type": "execute_result"
    }
   ],
   "source": [
    "request = ['onion', 'apple', 'pear', 123] \n",
    "'onion' in request # just check if something in the list"
   ]
  },
  {
   "cell_type": "code",
   "execution_count": 28,
   "id": "b3785a87",
   "metadata": {},
   "outputs": [
    {
     "data": {
      "text/plain": [
       "False"
      ]
     },
     "execution_count": 28,
     "metadata": {},
     "output_type": "execute_result"
    }
   ],
   "source": [
    "'peach' in request"
   ]
  },
  {
   "cell_type": "code",
   "execution_count": 29,
   "id": "7d2982ac",
   "metadata": {},
   "outputs": [
    {
     "data": {
      "text/plain": [
       "True"
      ]
     },
     "execution_count": 29,
     "metadata": {},
     "output_type": "execute_result"
    }
   ],
   "source": [
    "a = 'onion'\n",
    "a in request"
   ]
  },
  {
   "cell_type": "code",
   "execution_count": 31,
   "id": "f3e1ef58",
   "metadata": {},
   "outputs": [
    {
     "data": {
      "text/plain": [
       "True"
      ]
     },
     "execution_count": 31,
     "metadata": {},
     "output_type": "execute_result"
    }
   ],
   "source": [
    "123 in request # can check number, text, anything within list"
   ]
  },
  {
   "cell_type": "markdown",
   "id": "4d38468b",
   "metadata": {},
   "source": [
    "### Checking Whether a Value Is Not in a List\n",
    "\n",
    "Other times, it’s important to know if a value does not appear in a list. You can use the keyword not in this situation. For example, consider a list of users who are banned from commenting in a forum. You can check whether a user has been banned before allowing that person to submit a comment:"
   ]
  },
  {
   "cell_type": "code",
   "execution_count": 33,
   "id": "0bfdb211",
   "metadata": {},
   "outputs": [
    {
     "name": "stdout",
     "output_type": "stream",
     "text": [
      "Hsu, you cannot post anything before register.\n"
     ]
    }
   ],
   "source": [
    "user_bank = ['Eric', 'Deng', 'Emily']\n",
    "user = 'Hsu'\n",
    "if user not in user_bank:\n",
    "    print(f\"{user.title()}, you cannot post anything before register.\")"
   ]
  },
  {
   "cell_type": "markdown",
   "id": "1f953f8b",
   "metadata": {},
   "source": [
    "### Boolean Expressions\n",
    "\n",
    "As you learn more about programming, you’ll hear the term Boolean expression at some point. A Boolean expression is just another name for a conditional test. A Boolean value is either True or False, just like the value of a conditional expression after it has been evaluated.\n",
    "\n",
    "Boolean values are often used to keep track of certain conditions, such as whether a game is running or whether a user can edit certain content on a website:"
   ]
  },
  {
   "cell_type": "code",
   "execution_count": 34,
   "id": "b5f86ca3",
   "metadata": {},
   "outputs": [],
   "source": [
    "#Boolean only have two outcome True or False, no anything in between."
   ]
  },
  {
   "cell_type": "markdown",
   "id": "28251e45",
   "metadata": {},
   "source": [
    "## IF STATEMENTS\n",
    "\n",
    "When you understand conditional tests, you can start writing if statements. Several different kinds of if statements exist, and your choice of which to use depends on the number of conditions you need to test. You saw several examples of if statements in the discussion about conditional tests, but now let’s dig deeper into the topic.\n",
    "\n",
    "### Simple if Statements\n",
    "\n",
    "The simplest kind of if statement has one test and one action:\n",
    "\n",
    "```\n",
    "if conditional_test:\n",
    "    do something\n",
    "```\n",
    "\n",
    "You can put any conditional test in the first line and just about any action in the indented block following the test. If the conditional test evaluates to True, Python executes the code following the if statement. If the test evaluates to False, Python ignores the code following the if statement.\n",
    "\n",
    "Let’s say we have a variable representing a person’s age, and we want to know if that person is old enough to vote. The following code tests whether the person can vote:"
   ]
  },
  {
   "cell_type": "code",
   "execution_count": 35,
   "id": "8868986a",
   "metadata": {},
   "outputs": [
    {
     "name": "stdout",
     "output_type": "stream",
     "text": [
      "You are old enough to vote.\n"
     ]
    }
   ],
   "source": [
    "age = 19\n",
    "if age >= 18:\n",
    "    print('You are old enough to vote.')"
   ]
  },
  {
   "cell_type": "code",
   "execution_count": 36,
   "id": "b5021aae",
   "metadata": {},
   "outputs": [],
   "source": [
    "age = 17\n",
    "if age >= 18: #if condition doesn't meet, it will be done.\n",
    "    print('You are old enough to vote.')"
   ]
  },
  {
   "cell_type": "code",
   "execution_count": 37,
   "id": "254ccc83",
   "metadata": {},
   "outputs": [
    {
     "name": "stdout",
     "output_type": "stream",
     "text": [
      "haha\n"
     ]
    }
   ],
   "source": [
    "age = 17\n",
    "if age >= 18: #if condition doesn't meet, it will be done.\n",
    "    print('You are old enough to vote.')# indetation\n",
    "print('haha')"
   ]
  },
  {
   "cell_type": "markdown",
   "id": "7343720f",
   "metadata": {},
   "source": [
    "Indentation plays the same role in if statements as it did in for loops. All indented lines after an if statement will be executed if the test passes, and the entire block of indented lines will be ignored if the test does not pass.\n",
    "\n",
    "You can have as many lines of code as you want in the block following the if statement. Let’s add another line of output if the person is old enough to vote, asking if the individual has registered to vote yet:"
   ]
  },
  {
   "cell_type": "code",
   "execution_count": 38,
   "id": "29634c09",
   "metadata": {},
   "outputs": [],
   "source": [
    "age = 17\n",
    "if age >= 18: #if condition doesn't meet, it will be done.\n",
    "    print('You are old enough to vote.')# indetation\n",
    "    print('haha')"
   ]
  },
  {
   "cell_type": "code",
   "execution_count": 39,
   "id": "e51858b0",
   "metadata": {},
   "outputs": [
    {
     "name": "stdout",
     "output_type": "stream",
     "text": [
      "You are old enough to vote.\n",
      "Have you registered to vote yet?\n"
     ]
    }
   ],
   "source": [
    "age = 19\n",
    "if age >= 18:\n",
    "    print('You are old enough to vote.')\n",
    "    print('Have you registered to vote yet?')"
   ]
  },
  {
   "cell_type": "markdown",
   "id": "029cc045",
   "metadata": {},
   "source": [
    "### if-else Statements\n",
    "\n",
    "Often, you’ll want to take one action when a conditional test passes and a different action in all other cases. Python’s if-else syntax makes this possible. An if-else block is similar to a simple if statement, but the else statement allows you to define an action or set of actions that are executed when the conditional test fails.\n",
    "\n",
    "We’ll display the same message we had previously if the person is old enough to vote, but this time we’ll add a message for anyone who is not old enough to vote:"
   ]
  },
  {
   "cell_type": "code",
   "execution_count": 40,
   "id": "bfc625be",
   "metadata": {},
   "outputs": [
    {
     "name": "stdout",
     "output_type": "stream",
     "text": [
      "Sorry, you are not enough to vote.\n",
      "Please register to vote as soon as you become 18!\n"
     ]
    }
   ],
   "source": [
    "age = 17\n",
    "if age >= 18:\n",
    "    print(\"You are old enough to vote.\")\n",
    "    print('Have you registered to vote yet?')\n",
    "else:\n",
    "    print('Sorry, you are not enough to vote.')\n",
    "    print('Please register to vote as soon as you become 18!')"
   ]
  },
  {
   "cell_type": "code",
   "execution_count": 41,
   "id": "972c7c49",
   "metadata": {},
   "outputs": [
    {
     "name": "stdout",
     "output_type": "stream",
     "text": [
      "You are old enough to vote.\n",
      "Have you registered to vote yet?\n"
     ]
    }
   ],
   "source": [
    "age = 19\n",
    "if age >= 18:\n",
    "    print(\"You are old enough to vote.\")\n",
    "    print('Have you registered to vote yet?')\n",
    "else:\n",
    "    print('Sorry, you are not enough to vote.')\n",
    "    print('Please register to vote as soon as you become 18!')"
   ]
  },
  {
   "cell_type": "markdown",
   "id": "59221bc3",
   "metadata": {},
   "source": [
    "### The if-elif-else Chain\n",
    "\n",
    "Often, you’ll need to test more than two possible situations, and to evaluate these you can use Python’s if-elif-else syntax. Python executes only one block in an if-elif-else chain. It runs each conditional test in order until one passes. When a test passes, the code following that test is executed and Python skips the rest of the tests.\n",
    "\n",
    "Many real-world situations involve more than two possible conditions. For example, consider an amusement park that charges different rates for different age groups:\n",
    "\n",
    "-   Admission for anyone under age 4 is free.\n",
    "-   Admission for anyone between the ages of 4 and 18 is \\$25.\n",
    "-   Admission for anyone age 18 or older is \\$60.\n",
    "-   Admission for anyone age older than 65 is \\$10\n",
    "\n",
    "How can we use an if statement to determine a person’s admission rate? The following code tests for the age group of a person and then prints an admission price message:"
   ]
  },
  {
   "cell_type": "code",
   "execution_count": 42,
   "id": "b603ec35",
   "metadata": {},
   "outputs": [
    {
     "name": "stdout",
     "output_type": "stream",
     "text": [
      "Your admission cost is $ 25.\n"
     ]
    }
   ],
   "source": [
    "age = 12\n",
    "if age < 4:\n",
    "    price = 0\n",
    "elif age < 18:\n",
    "    price = 25\n",
    "elif age < 65:\n",
    "    price = 60\n",
    "elif age >= 65:\n",
    "    price = 10\n",
    "print(f\"Your admission cost is $ {price}.\")"
   ]
  },
  {
   "cell_type": "code",
   "execution_count": 43,
   "id": "9f06a9e6",
   "metadata": {},
   "outputs": [
    {
     "name": "stdout",
     "output_type": "stream",
     "text": [
      "Your admission cost is $ 25.\n"
     ]
    }
   ],
   "source": [
    "# only can have one else, but many elif\n",
    "age = 12\n",
    "if age < 4:\n",
    "    price = 0\n",
    "elif age < 18:\n",
    "    price = 25\n",
    "elif age < 65:\n",
    "    price = 60\n",
    "elif age >= 65:\n",
    "    price = 10\n",
    "else: #meaningless, will never be execute\n",
    "    price = 1000\n",
    "print(f\"Your admission cost is $ {price}.\")"
   ]
  },
  {
   "cell_type": "code",
   "execution_count": 44,
   "id": "598b9f2a",
   "metadata": {},
   "outputs": [
    {
     "name": "stdout",
     "output_type": "stream",
     "text": [
      "Your admission cost is $ -10.\n"
     ]
    }
   ],
   "source": [
    "# only can have one else, but many elif\n",
    "age = 120\n",
    "if age < 4:\n",
    "    price = 0\n",
    "elif age < 18:\n",
    "    price = 25\n",
    "elif age < 65:\n",
    "    price = 60\n",
    "elif age < 100:\n",
    "    price = 10\n",
    "else: #meaningful, because the above schema doesn't cover all the possibility\n",
    "    price = -10\n",
    "print(f\"Your admission cost is $ {price}.\")"
   ]
  },
  {
   "cell_type": "code",
   "execution_count": null,
   "id": "ccb2ba04",
   "metadata": {},
   "outputs": [],
   "source": [
    "# not finish yet! Updated soon!"
   ]
  }
 ],
 "metadata": {
  "kernelspec": {
   "display_name": "Python 3 (ipykernel)",
   "language": "python",
   "name": "python3"
  },
  "language_info": {
   "codemirror_mode": {
    "name": "ipython",
    "version": 3
   },
   "file_extension": ".py",
   "mimetype": "text/x-python",
   "name": "python",
   "nbconvert_exporter": "python",
   "pygments_lexer": "ipython3",
   "version": "3.9.16"
  }
 },
 "nbformat": 4,
 "nbformat_minor": 5
}
